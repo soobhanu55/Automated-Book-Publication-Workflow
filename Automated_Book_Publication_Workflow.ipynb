{
  "nbformat": 4,
  "nbformat_minor": 0,
  "metadata": {
    "colab": {
      "provenance": []
    },
    "kernelspec": {
      "name": "python3",
      "display_name": "Python 3"
    },
    "language_info": {
      "name": "python"
    }
  },
  "cells": [
    {
      "cell_type": "code",
      "execution_count": null,
      "metadata": {
        "id": "EEG5G7hqFDVv"
      },
      "outputs": [],
      "source": [
        "import asyncio\n",
        "from playwright.async_api import async_playwright\n",
        "import openai  # or Gemini wrapper depending on access\n",
        "import chromadb\n",
        "from chromadb.config import Settings\n",
        "from uuid import uuid4\n",
        "from typing import Dict, Any\n",
        "import os\n",
        "import json\n",
        "import numpy as np\n",
        "from sklearn.metrics.pairwise import cosine_similarity\n",
        "import random"
      ]
    },
    {
      "cell_type": "code",
      "source": [
        "CHROMA_PATH = \"./chroma_db\"\n",
        "COLLECTION_NAME = \"book_versions\"\n",
        "FEEDBACK_LOG = \"retrieval_feedback.json\""
      ],
      "metadata": {
        "id": "qyLsj6OJIrJG"
      },
      "execution_count": null,
      "outputs": []
    },
    {
      "cell_type": "code",
      "source": [
        "client = chromadb.Client(Settings(chroma_db_impl=\"duckdb+parquet\", persist_directory=CHROMA_PATH))\n",
        "collection = client.get_or_create_collection(COLLECTION_NAME)"
      ],
      "metadata": {
        "id": "gvWQd83LIucA"
      },
      "execution_count": null,
      "outputs": []
    },
    {
      "cell_type": "code",
      "source": [
        "if not os.path.exists(FEEDBACK_LOG):\n",
        "    with open(FEEDBACK_LOG, \"w\") as f:\n",
        "        json.dump({}, f)"
      ],
      "metadata": {
        "id": "s5YPA-tYIyE6"
      },
      "execution_count": null,
      "outputs": []
    },
    {
      "cell_type": "code",
      "source": [
        "async def fetch_content_and_screenshot(url: str) -> str:\n",
        "    async with async_playwright() as p:\n",
        "        browser = await p.chromium.launch()\n",
        "        page = await browser.new_page()\n",
        "        await page.goto(url)\n",
        "        content = await page.inner_text(\"body\")\n",
        "        await page.screenshot(path=\"chapter_screenshot.png\", full_page=True)\n",
        "        await browser.close()\n",
        "    return content"
      ],
      "metadata": {
        "id": "rCITPS6wJqG5"
      },
      "execution_count": null,
      "outputs": []
    },
    {
      "cell_type": "code",
      "source": [
        "def ai_writer_agent(text: str) -> str:\n",
        "    response = openai.ChatCompletion.create(\n",
        "        model=\"gpt-4\",\n",
        "        messages=[\n",
        "            {\"role\": \"system\", \"content\": \"You're an expert fiction writer rephrasing content engagingly.\"},\n",
        "            {\"role\": \"user\", \"content\": text}\n",
        "        ]\n",
        "    )\n",
        "    return response[\"choices\"][0][\"message\"][\"content\"]"
      ],
      "metadata": {
        "id": "GiqS8pACJ7EQ"
      },
      "execution_count": null,
      "outputs": []
    },
    {
      "cell_type": "code",
      "source": [
        "def ai_reviewer_agent(text: str) -> str:\n",
        "    response = openai.ChatCompletion.create(\n",
        "        model=\"gpt-4\",\n",
        "        messages=[\n",
        "            {\"role\": \"system\", \"content\": \"You're an editor refining tone, clarity, and flow.\"},\n",
        "            {\"role\": \"user\", \"content\": text}\n",
        "        ]\n",
        "    )\n",
        "    return response[\"choices\"][0][\"message\"][\"content\"]"
      ],
      "metadata": {
        "id": "01tMRNnuJ-_k"
      },
      "execution_count": null,
      "outputs": []
    },
    {
      "cell_type": "code",
      "source": [
        "def human_feedback_loop(text: str, iterations: int = 2) -> str:\n",
        "    for i in range(iterations):\n",
        "        print(f\"\\n--- Human Review Round {i+1} ---\")\n",
        "        print(\"Preview:\")\n",
        "        print(\"=\" * 80)\n",
        "        print(text[:1000], \"...\\n\")\n",
        "        print(\"=\" * 80)\n",
        "        choice = input(\"Accept this version? (y = yes / n = suggest edit): \").strip().lower()\n",
        "        if choice == \"n\":\n",
        "            user_edit = input(\"Enter your suggestion: \")\n",
        "            text += f\"\\n[Editor Suggestion Round {i+1}]: {user_edit}\"\n",
        "        else:\n",
        "            print(\"✅ Approved by human editor.\")\n",
        "            break\n",
        "    return text"
      ],
      "metadata": {
        "id": "qqv4kpKqKaix"
      },
      "execution_count": null,
      "outputs": []
    },
    {
      "cell_type": "code",
      "source": [
        "def save_version(chapter_id: str, text: str):\n",
        "    collection.add(\n",
        "        documents=[text],\n",
        "        ids=[chapter_id],\n",
        "        metadatas=[{\"source\": \"spun_chapter\", \"version\": str(uuid4())}]\n",
        "    )"
      ],
      "metadata": {
        "id": "HaOHofnrKxVY"
      },
      "execution_count": null,
      "outputs": []
    },
    {
      "cell_type": "code",
      "source": [
        "def get_embedding(text: str) -> list:\n",
        "    response = openai.Embedding.create(input=[text], model=\"text-embedding-ada-002\")\n",
        "    return response[\"data\"][0][\"embedding\"]"
      ],
      "metadata": {
        "id": "cPb1lAxRKyvO"
      },
      "execution_count": null,
      "outputs": []
    },
    {
      "cell_type": "code",
      "source": [
        "def rl_search(query: str) -> str:\n",
        "    query_vec = get_embedding(query)\n",
        "    results = collection.get(include=[\"documents\", \"metadatas\", \"embeddings\"])\n",
        "\n",
        "    if not results[\"documents\"]:\n",
        "        return \"No documents found.\"\n",
        "\n",
        "    doc_vectors = results[\"embeddings\"]\n",
        "    similarities = cosine_similarity([query_vec], doc_vectors)[0]"
      ],
      "metadata": {
        "id": "-fCV-e5IK05s"
      },
      "execution_count": null,
      "outputs": []
    },
    {
      "cell_type": "code",
      "source": [
        " epsilon = 0.2\n",
        "    if random.random() < epsilon:\n",
        "        top_idx = random.randint(0, len(similarities) - 1)\n",
        "        print(\"🎲 Exploring random result...\")\n",
        "    else:\n",
        "        top_idx = int(np.argmax(similarities))\n",
        "        print(\"🎯 Exploiting best result...\")\n",
        "\n",
        "    best_doc = results[\"documents\"][top_idx][0]\n",
        "    best_id = results[\"ids\"][top_idx]\n",
        "\n",
        "    log_feedback(query, best_id, similarities[top_idx])\n",
        "    return best_doc"
      ],
      "metadata": {
        "id": "NBlFQlIhK4iN"
      },
      "execution_count": null,
      "outputs": []
    },
    {
      "cell_type": "code",
      "source": [
        "ef log_feedback(query: str, doc_id: str, score: float):\n",
        "    with open(FEEDBACK_LOG, \"r+\") as f:\n",
        "        data = json.load(f)\n",
        "        entry = { \"query\": query, \"doc_id\": doc_id, \"score\": score }\n",
        "        data.setdefault(\"logs\", []).append(entry)\n",
        "        f.seek(0)\n",
        "        json.dump(data, f, indent=2)"
      ],
      "metadata": {
        "id": "J7WLSoN-K7Op"
      },
      "execution_count": null,
      "outputs": []
    },
    {
      "cell_type": "code",
      "source": [
        "def run_workflow(url: str, chapter_id: str):\n",
        "    content = asyncio.run(fetch_content_and_screenshot(url))\n",
        "    spun = ai_writer_agent(content)\n",
        "    reviewed = ai_reviewer_agent(spun)\n",
        "    final = human_feedback_loop(reviewed)\n",
        "    save_version(chapter_id, final)\n",
        "    print(\"\\n✅ Chapter processed and saved.\\n\")"
      ],
      "metadata": {
        "id": "BeT_5dinK9ww"
      },
      "execution_count": null,
      "outputs": []
    },
    {
      "cell_type": "code",
      "source": [
        "if __name__ == \"__main__\":\n",
        "    run_workflow(\n",
        "        url=\"https://en.wikisource.org/wiki/The_Gates_of_Morning/Book_1/Chapter_1\",\n",
        "        chapter_id=\"gates_morning_book1_ch1\"\n",
        "    )"
      ],
      "metadata": {
        "id": "uB5ZmDXwLDPJ"
      },
      "execution_count": null,
      "outputs": []
    },
    {
      "cell_type": "code",
      "source": [
        " print(\"🔍 Retrieving Final Version:\")\n",
        "    print(rl_search(\"The Gates of Morning Chapter 1\"))\n"
      ],
      "metadata": {
        "id": "2dJF_RyTLHCf"
      },
      "execution_count": null,
      "outputs": []
    }
  ]
}